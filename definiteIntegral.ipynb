{
  "nbformat": 4,
  "nbformat_minor": 0,
  "metadata": {
    "colab": {
      "provenance": []
    },
    "kernelspec": {
      "name": "python3",
      "display_name": "Python 3"
    },
    "language_info": {
      "name": "python"
    }
  },
  "cells": [
    {
      "cell_type": "code",
      "source": [
        "x1 =  input('input start ');\n"
      ],
      "metadata": {
        "colab": {
          "base_uri": "https://localhost:8080/"
        },
        "id": "gkTxNXR2bjs-",
        "outputId": "0ce4dd60-3f47-4d32-f5ac-25f8eacd27dc"
      },
      "execution_count": null,
      "outputs": [
        {
          "name": "stdout",
          "output_type": "stream",
          "text": [
            "input start2\n"
          ]
        }
      ]
    },
    {
      "cell_type": "code",
      "source": [
        "x2 =  input('input end ');"
      ],
      "metadata": {
        "colab": {
          "base_uri": "https://localhost:8080/"
        },
        "id": "ukDfg4Nmc2VN",
        "outputId": "53600f8a-5adc-4b2c-8bbc-4cfe5b7bf310"
      },
      "execution_count": null,
      "outputs": [
        {
          "name": "stdout",
          "output_type": "stream",
          "text": [
            "input end 5\n"
          ]
        }
      ]
    },
    {
      "cell_type": "code",
      "execution_count": null,
      "metadata": {
        "colab": {
          "base_uri": "https://localhost:8080/"
        },
        "id": "xwrhQtx3Ytqq",
        "outputId": "6ef7426b-0c14-4df1-d273-bf3e3f592cb2"
      },
      "outputs": [
        {
          "name": "stdout",
          "output_type": "stream",
          "text": [
            "enter function2* {x}\n"
          ]
        }
      ],
      "source": [
        "F = eval(input('enter function'));"
      ]
    },
    {
      "cell_type": "code",
      "source": [],
      "metadata": {
        "id": "cSqFmVcBbihq"
      },
      "execution_count": null,
      "outputs": []
    },
    {
      "cell_type": "code",
      "source": [
        "F"
      ],
      "metadata": {
        "colab": {
          "base_uri": "https://localhost:8080/",
          "height": 36
        },
        "id": "CUQang5rZEwa",
        "outputId": "7e6f7a18-a98d-476b-ecad-d78ffab59694"
      },
      "execution_count": null,
      "outputs": [
        {
          "output_type": "execute_result",
          "data": {
            "text/plain": [
              "'2* {x}'"
            ],
            "application/vnd.google.colaboratory.intrinsic+json": {
              "type": "string"
            }
          },
          "metadata": {},
          "execution_count": 18
        }
      ]
    },
    {
      "cell_type": "code",
      "source": [
        "def rectangle_method(f, a, b, n):\n",
        "    dx = (b - a) / n\n",
        "    integral = 0\n",
        "    for i in range(n):\n",
        "        x_mid = a + (i + 0.5) * dx\n",
        "        integral += f(x_mid)\n",
        "    integral *= dx\n",
        "    return integral\n",
        "\n",
        "# Example usage:\n",
        "def f(x):\n",
        "    return x ** 2\n",
        "a = 0\n",
        "b = 1\n",
        "n = 100\n",
        "result_rect = rectangle_method(f, a, b, n)\n",
        "print(\"Rectangle Method:\", result_rect)"
      ],
      "metadata": {
        "colab": {
          "base_uri": "https://localhost:8080/"
        },
        "id": "1WDZxv4nkY1b",
        "outputId": "6962d3b9-94f2-4326-b6aa-20cb43ad4acf"
      },
      "execution_count": 1,
      "outputs": [
        {
          "output_type": "stream",
          "name": "stdout",
          "text": [
            "Rectangle Method: 0.333325\n"
          ]
        }
      ]
    }
  ]
}